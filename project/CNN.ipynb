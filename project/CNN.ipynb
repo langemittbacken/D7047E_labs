{
  "cells": [
    {
      "cell_type": "code",
      "source": [
        "!pip install transformers\n",
        "!pip install pytorch-transformers"
      ],
      "metadata": {
        "colab": {
          "base_uri": "https://localhost:8080/"
        },
        "id": "wd9Sqbs2JTnX",
        "outputId": "b4936405-5efb-4a39-a93c-1faef5c8cd62"
      },
      "execution_count": null,
      "outputs": [
        {
          "output_type": "stream",
          "name": "stdout",
          "text": [
            "Looking in indexes: https://pypi.org/simple, https://us-python.pkg.dev/colab-wheels/public/simple/\n",
            "Requirement already satisfied: transformers in /usr/local/lib/python3.10/dist-packages (4.29.2)\n",
            "Requirement already satisfied: filelock in /usr/local/lib/python3.10/dist-packages (from transformers) (3.12.0)\n",
            "Requirement already satisfied: huggingface-hub<1.0,>=0.14.1 in /usr/local/lib/python3.10/dist-packages (from transformers) (0.14.1)\n",
            "Requirement already satisfied: numpy>=1.17 in /usr/local/lib/python3.10/dist-packages (from transformers) (1.22.4)\n",
            "Requirement already satisfied: packaging>=20.0 in /usr/local/lib/python3.10/dist-packages (from transformers) (23.1)\n",
            "Requirement already satisfied: pyyaml>=5.1 in /usr/local/lib/python3.10/dist-packages (from transformers) (6.0)\n",
            "Requirement already satisfied: regex!=2019.12.17 in /usr/local/lib/python3.10/dist-packages (from transformers) (2022.10.31)\n",
            "Requirement already satisfied: requests in /usr/local/lib/python3.10/dist-packages (from transformers) (2.27.1)\n",
            "Requirement already satisfied: tokenizers!=0.11.3,<0.14,>=0.11.1 in /usr/local/lib/python3.10/dist-packages (from transformers) (0.13.3)\n",
            "Requirement already satisfied: tqdm>=4.27 in /usr/local/lib/python3.10/dist-packages (from transformers) (4.65.0)\n",
            "Requirement already satisfied: fsspec in /usr/local/lib/python3.10/dist-packages (from huggingface-hub<1.0,>=0.14.1->transformers) (2023.4.0)\n",
            "Requirement already satisfied: typing-extensions>=3.7.4.3 in /usr/local/lib/python3.10/dist-packages (from huggingface-hub<1.0,>=0.14.1->transformers) (4.5.0)\n",
            "Requirement already satisfied: urllib3<1.27,>=1.21.1 in /usr/local/lib/python3.10/dist-packages (from requests->transformers) (1.26.15)\n",
            "Requirement already satisfied: certifi>=2017.4.17 in /usr/local/lib/python3.10/dist-packages (from requests->transformers) (2022.12.7)\n",
            "Requirement already satisfied: charset-normalizer~=2.0.0 in /usr/local/lib/python3.10/dist-packages (from requests->transformers) (2.0.12)\n",
            "Requirement already satisfied: idna<4,>=2.5 in /usr/local/lib/python3.10/dist-packages (from requests->transformers) (3.4)\n",
            "Looking in indexes: https://pypi.org/simple, https://us-python.pkg.dev/colab-wheels/public/simple/\n",
            "Requirement already satisfied: pytorch-transformers in /usr/local/lib/python3.10/dist-packages (1.2.0)\n",
            "Requirement already satisfied: torch>=1.0.0 in /usr/local/lib/python3.10/dist-packages (from pytorch-transformers) (2.0.0+cu118)\n",
            "Requirement already satisfied: numpy in /usr/local/lib/python3.10/dist-packages (from pytorch-transformers) (1.22.4)\n",
            "Requirement already satisfied: boto3 in /usr/local/lib/python3.10/dist-packages (from pytorch-transformers) (1.26.135)\n",
            "Requirement already satisfied: requests in /usr/local/lib/python3.10/dist-packages (from pytorch-transformers) (2.27.1)\n",
            "Requirement already satisfied: tqdm in /usr/local/lib/python3.10/dist-packages (from pytorch-transformers) (4.65.0)\n",
            "Requirement already satisfied: regex in /usr/local/lib/python3.10/dist-packages (from pytorch-transformers) (2022.10.31)\n",
            "Requirement already satisfied: sentencepiece in /usr/local/lib/python3.10/dist-packages (from pytorch-transformers) (0.1.99)\n",
            "Requirement already satisfied: sacremoses in /usr/local/lib/python3.10/dist-packages (from pytorch-transformers) (0.0.53)\n",
            "Requirement already satisfied: filelock in /usr/local/lib/python3.10/dist-packages (from torch>=1.0.0->pytorch-transformers) (3.12.0)\n",
            "Requirement already satisfied: typing-extensions in /usr/local/lib/python3.10/dist-packages (from torch>=1.0.0->pytorch-transformers) (4.5.0)\n",
            "Requirement already satisfied: sympy in /usr/local/lib/python3.10/dist-packages (from torch>=1.0.0->pytorch-transformers) (1.11.1)\n",
            "Requirement already satisfied: networkx in /usr/local/lib/python3.10/dist-packages (from torch>=1.0.0->pytorch-transformers) (3.1)\n",
            "Requirement already satisfied: jinja2 in /usr/local/lib/python3.10/dist-packages (from torch>=1.0.0->pytorch-transformers) (3.1.2)\n",
            "Requirement already satisfied: triton==2.0.0 in /usr/local/lib/python3.10/dist-packages (from torch>=1.0.0->pytorch-transformers) (2.0.0)\n",
            "Requirement already satisfied: cmake in /usr/local/lib/python3.10/dist-packages (from triton==2.0.0->torch>=1.0.0->pytorch-transformers) (3.25.2)\n",
            "Requirement already satisfied: lit in /usr/local/lib/python3.10/dist-packages (from triton==2.0.0->torch>=1.0.0->pytorch-transformers) (16.0.3)\n",
            "Requirement already satisfied: botocore<1.30.0,>=1.29.135 in /usr/local/lib/python3.10/dist-packages (from boto3->pytorch-transformers) (1.29.135)\n",
            "Requirement already satisfied: jmespath<2.0.0,>=0.7.1 in /usr/local/lib/python3.10/dist-packages (from boto3->pytorch-transformers) (1.0.1)\n",
            "Requirement already satisfied: s3transfer<0.7.0,>=0.6.0 in /usr/local/lib/python3.10/dist-packages (from boto3->pytorch-transformers) (0.6.1)\n",
            "Requirement already satisfied: urllib3<1.27,>=1.21.1 in /usr/local/lib/python3.10/dist-packages (from requests->pytorch-transformers) (1.26.15)\n",
            "Requirement already satisfied: certifi>=2017.4.17 in /usr/local/lib/python3.10/dist-packages (from requests->pytorch-transformers) (2022.12.7)\n",
            "Requirement already satisfied: charset-normalizer~=2.0.0 in /usr/local/lib/python3.10/dist-packages (from requests->pytorch-transformers) (2.0.12)\n",
            "Requirement already satisfied: idna<4,>=2.5 in /usr/local/lib/python3.10/dist-packages (from requests->pytorch-transformers) (3.4)\n",
            "Requirement already satisfied: six in /usr/local/lib/python3.10/dist-packages (from sacremoses->pytorch-transformers) (1.16.0)\n",
            "Requirement already satisfied: click in /usr/local/lib/python3.10/dist-packages (from sacremoses->pytorch-transformers) (8.1.3)\n",
            "Requirement already satisfied: joblib in /usr/local/lib/python3.10/dist-packages (from sacremoses->pytorch-transformers) (1.2.0)\n",
            "Requirement already satisfied: python-dateutil<3.0.0,>=2.1 in /usr/local/lib/python3.10/dist-packages (from botocore<1.30.0,>=1.29.135->boto3->pytorch-transformers) (2.8.2)\n",
            "Requirement already satisfied: MarkupSafe>=2.0 in /usr/local/lib/python3.10/dist-packages (from jinja2->torch>=1.0.0->pytorch-transformers) (2.1.2)\n",
            "Requirement already satisfied: mpmath>=0.19 in /usr/local/lib/python3.10/dist-packages (from sympy->torch>=1.0.0->pytorch-transformers) (1.3.0)\n"
          ]
        }
      ]
    },
    {
      "cell_type": "code",
      "source": [
        "import torch\n",
        "import torch.cuda\n",
        "from google.colab import drive\n",
        "drive.mount('/content/drive')\n",
        "device = torch.device('cuda' if torch.cuda.is_available() else 'cpu')\n",
        "print(f\"Using {'cuda' if torch.cuda.is_available() else 'cpu'}\")"
      ],
      "metadata": {
        "colab": {
          "base_uri": "https://localhost:8080/"
        },
        "id": "EyGb_taUKsWr",
        "outputId": "a72e044e-9e7e-4927-e2ec-b6fa88d26534"
      },
      "execution_count": null,
      "outputs": [
        {
          "output_type": "stream",
          "name": "stdout",
          "text": [
            "Drive already mounted at /content/drive; to attempt to forcibly remount, call drive.mount(\"/content/drive\", force_remount=True).\n",
            "Using cuda\n"
          ]
        }
      ]
    },
    {
      "cell_type": "code",
      "execution_count": null,
      "metadata": {
        "id": "apBfsyqlJB7h"
      },
      "outputs": [],
      "source": [
        "import pandas as pd\n",
        "import torch\n",
        "from pytorch_transformers import BertTokenizer\n",
        "from pytorch_transformers import BertModel\n",
        "from transformers import AutoModel, AutoTokenizer\n",
        "from torch.utils.data import DataLoader\n",
        "import warnings\n",
        "warnings.simplefilter(action='ignore', category=FutureWarning)"
      ]
    },
    {
      "cell_type": "code",
      "execution_count": null,
      "metadata": {
        "id": "vI8CASLqJB7m"
      },
      "outputs": [],
      "source": [
        "labels1 = {'NOT': 0,\n",
        "         'HOF': 1}\n",
        "\n",
        "labels = {'NONE': 0,\n",
        "         'HATE': 1,\n",
        "         'PRFN': 2,\n",
        "         'OFFN': 3}\n",
        "\n",
        "def preprocess(data, columns):\n",
        "    df_ = pd.DataFrame(columns=columns)\n",
        "    data['tweet'] = data['tweet'].str.lower()\n",
        "    data['tweet'] = data['tweet'].str.replace(r'(@\\S+)', r' ', regex=True)\n",
        "    data['tweet'] = data['tweet'].replace('[a-zA-Z0-9-_.]+@[a-zA-Z0-9-_.]+', '', regex=True)                      # remove emails\n",
        "    data['tweet'] = data['tweet'].replace('((25[0-5]|2[0-4][0-9]|[01]?[0-9][0-9]?)(\\.|$)){4}', '', regex=True)    # remove IP address\n",
        "    data['tweet'] = data['tweet'].str.replace('[^\\w\\s]', '')                                                       # remove special characters\n",
        "    data['tweet'] = data['tweet'].replace('\\d', '', regex=True)\n",
        "    data['tweet'] = data['tweet'].str.replace(r'[^\\x00-\\x7F]+', r' ', regex=True) \n",
        "    \n",
        "    i = 0\n",
        "    for index, row in data.iterrows():\n",
        "        text = row['tweet']\n",
        "        #word_tokens = tokenizer.tokenize(text)\n",
        "        token_id = tokenizerTweet.encode(text)\n",
        "        #filtered_sent = [w for w in word_tokens if not w in stopwords.words('english')]\n",
        "        df_ = df_.append({\n",
        "            \"index\": i,\n",
        "            \"Class\": row['task_2'],\n",
        "            \"Tweet\": text,\n",
        "            'Token_id': token_id\n",
        "        }, ignore_index=True)\n",
        "        i = i + 1\n",
        "    return df_\n",
        "\n",
        "def pre2(data, columns):\n",
        "    df_ = pd.DataFrame(columns=columns)\n",
        "    \n",
        "    i = 0\n",
        "    for index, row in data.iterrows():\n",
        "        text = row['tweet']\n",
        "        token_id = tokenizerTweet.encode(text)\n",
        "        #filtered_sent = [w for w in word_tokens if not w in stopwords.words('english')]\n",
        "        df_ = df_.append({\n",
        "            \"index\": i,\n",
        "            \"Class\": row['subtask_a'],\n",
        "            \"Tweet\": text,\n",
        "            'Token_id': token_id\n",
        "        }, ignore_index=True)\n",
        "        i = i + 1\n",
        "    return df_"
      ]
    },
    {
      "cell_type": "code",
      "execution_count": null,
      "metadata": {
        "colab": {
          "base_uri": "https://localhost:8080/"
        },
        "id": "wKDMvo3dJB7o",
        "outputId": "6869aa8b-6cb7-4d64-de5e-8d6ba7dc9315"
      },
      "outputs": [
        {
          "output_type": "stream",
          "name": "stderr",
          "text": [
            "Some weights of the model checkpoint at vinai/bertweet-base were not used when initializing RobertaModel: ['lm_head.decoder.weight', 'lm_head.layer_norm.weight', 'lm_head.dense.bias', 'lm_head.bias', 'lm_head.dense.weight', 'lm_head.layer_norm.bias', 'lm_head.decoder.bias']\n",
            "- This IS expected if you are initializing RobertaModel from the checkpoint of a model trained on another task or with another architecture (e.g. initializing a BertForSequenceClassification model from a BertForPreTraining model).\n",
            "- This IS NOT expected if you are initializing RobertaModel from the checkpoint of a model that you expect to be exactly identical (initializing a BertForSequenceClassification model from a BertForSequenceClassification model).\n",
            "emoji is not installed, thus not converting emoticons or emojis into text. Install emoji: pip3 install emoji==0.6.0\n",
            "Special tokens have been added in the vocabulary, make sure the associated word embeddings are fine-tuned or trained.\n"
          ]
        }
      ],
      "source": [
        "bertweet = AutoModel.from_pretrained(\"vinai/bertweet-base\")\n",
        "bertweet = bertweet.to(device)\n",
        "tokenizerTweet= AutoTokenizer.from_pretrained(\"vinai/bertweet-base\", use_fast=False)\n",
        "\n",
        "data1 = pd.read_table('/content/drive/MyDrive/deepNN-labs/data/HASOCData/english_dataset.tsv')\n",
        "data2 = pd.read_table('/content/drive/MyDrive/deepNN-labs/data/HASOCData/hasoc2019_en_test-2919.tsv')\n",
        "columns = ['index', 'Tweet', 'Token_id','Class']\n",
        "data = preprocess(data1, columns)\n",
        "\n",
        "dataT = preprocess(data2, columns)\n",
        "\n"
      ]
    },
    {
      "cell_type": "code",
      "source": [
        "from sklearn.model_selection import train_test_split\n",
        "\n",
        "#train, test = \n",
        "\n",
        "tex = pd.read_table('/content/drive/MyDrive/deepNN-labs/data/olid_pre/train.txt')\n",
        "\n",
        "dataX = pre2(tex, columns)\n",
        "train_samp = int(0.8*len(dataX))\n",
        "val_samp = len(dataX) - train_samp\n",
        "data, dataT = train_test_split(dataX, test_size=0.2)"
      ],
      "metadata": {
        "id": "patduyt96GTj"
      },
      "execution_count": null,
      "outputs": []
    },
    {
      "cell_type": "code",
      "execution_count": null,
      "metadata": {
        "id": "-U7igym4JB7r"
      },
      "outputs": [],
      "source": [
        "training_data = []\n",
        "\n",
        "labels = {'NONE': 0,\n",
        "         'HATE': 1,\n",
        "         'PRFN': 2,\n",
        "         'OFFN': 3}\n",
        "\n",
        "labels1 = {'NOT': 0,\n",
        "         'HOF': 1}\n",
        "\n",
        "labels2 = {'NOT': 0,\n",
        "         'OFF': 1}\n",
        "#embed size 768\n",
        "\n",
        "for _, n in data.iterrows():\n",
        "    #print(n['index'])\n",
        "    input_ids = torch.tensor([n['Token_id']]).to(device)\n",
        "    #print(input_ids)\n",
        "    with torch.no_grad():\n",
        "        features = bertweet(input_ids)\n",
        "    embeds = features[-1]\n",
        "\n",
        "    \n",
        "    embeds = embeds.squeeze(0)\n",
        "    #print(embeds.shape)\n",
        "    training_data.append((embeds, labels[n['Class']]))\n",
        "\n",
        "testing_data = []\n",
        "for _, n in dataT.iterrows():\n",
        "    #print(n['index'])\n",
        "    input_ids = torch.tensor([n['Token_id']]).to(device)\n",
        "    #print(input_ids)\n",
        "    with torch.no_grad():\n",
        "        features = bertweet(input_ids)\n",
        "    embeds = features[-1]\n",
        "\n",
        "    \n",
        "    embeds = embeds.squeeze(0)\n",
        "    #print(embeds.shape)\n",
        "    testing_data.append((embeds, labels[n['Class']]))"
      ]
    },
    {
      "cell_type": "code",
      "execution_count": null,
      "metadata": {
        "id": "cCtTKWJ5JB7u"
      },
      "outputs": [],
      "source": [
        "import torch.nn as nn\n",
        "import torch.nn.functional as F\n",
        "import torch.optim as optim\n",
        "\n",
        "class Net(nn.Module):\n",
        "    def __init__(self):\n",
        "        super(Net, self).__init__()\n",
        "        self.conv1 = nn.Conv1d(1, 256, kernel_size=5, stride=1, padding=2)\n",
        "        self.pool = nn.MaxPool1d(2, 2)\n",
        "        self.conv2 = nn.Conv1d(256, 256, kernel_size=5, stride=1, padding=2)\n",
        "        self.fc1 = nn.Linear(256 * 192, 120)\n",
        "        self.fc2 = nn.Linear(120, 4)\n",
        "        self.dropout = nn.Dropout(p=0.2)\n",
        "        self.softmax = nn.Softmax(dim=1)\n",
        "\n",
        "    def forward(self, x):\n",
        "        x = x.view(-1, 1, 768)\n",
        "        x = self.conv1(x)\n",
        "        x = F.leaky_relu(x)\n",
        "        x = self.pool(x)\n",
        "        x = self.conv2(x)\n",
        "        x = F.leaky_relu(x)\n",
        "        x = self.pool(x)\n",
        "        x = torch.flatten(x, 1)\n",
        "        x = self.fc1(x)\n",
        "        x = F.leaky_relu(x)\n",
        "        x = self.fc2(x)\n",
        "        x = self.dropout(x)\n",
        "        return x"
      ]
    },
    {
      "cell_type": "code",
      "execution_count": null,
      "metadata": {
        "id": "RcUOcv3TJB7v"
      },
      "outputs": [],
      "source": [
        "from sklearn.metrics import f1_score\n",
        "def train_model(model, criterion, optimizer, lista, val, num_epochs):\n",
        "    bestValLoss = 1000\n",
        "\n",
        "    training_loss = []\n",
        "    validation_loss = []\n",
        "    for epochs in range(num_epochs):\n",
        "        loss = 0\n",
        "        running_loss = 0.0\n",
        "        correct_predictions = 0\n",
        "        total_predictions = 0\n",
        "\n",
        "        running_loss2 = 0.0\n",
        "        correct_predictions2 = 0\n",
        "        total_predictions2 = 0\n",
        "\n",
        "        for batch_nr, (data, label) in enumerate(lista):\n",
        "            #print(\"Data, \", data, \"\\n Labels: \", labels, \"\\n batch: \", batch_nr)\n",
        "            prediction = model.forward(data)\n",
        "            _, predicted = torch.max(prediction, 1)\n",
        "\n",
        "            #label = to_onehot(label).to(device)\n",
        "            label = label.to(device)\n",
        "            loss = criterion(prediction, label)\n",
        "            loss.backward()\n",
        "\n",
        "            optimizer.step()\n",
        "            optimizer.zero_grad()\n",
        "            \n",
        "            running_loss += loss.item() * data.size(0)\n",
        "            correct_predictions += (predicted == label).sum().item()\n",
        "            total_predictions += label.size(0)\n",
        "\n",
        "        \n",
        "        ##Validation\n",
        "        for batch_nr, (data, label) in enumerate(val):\n",
        "            #print(\"Data, \", data, \"\\n Labels: \", labels, \"\\n batch: \", batch_nr)\n",
        "            prediction = model.forward(data)\n",
        "            _, predicted = torch.max(prediction, 1)\n",
        "\n",
        "            label = label.to(device)\n",
        "            loss = criterion(prediction, label)\n",
        "\n",
        "            if (loss < bestValLoss):\n",
        "                bestValLoss = loss\n",
        "                torch.save(model, f=\"./test\")\n",
        "              \n",
        "            running_loss2 += loss.item() * data.size(0)\n",
        "            correct_predictions2 += (predicted == label).sum().item()\n",
        "            total_predictions2 += label.size(0)\n",
        "\n",
        "        epoch_loss = running_loss / len(dataloader.dataset)\n",
        "        epoch_acc = correct_predictions / total_predictions\n",
        "\n",
        "        epoch_loss2 = running_loss2 / len(val_loader.dataset)\n",
        "        epoch_acc2 = correct_predictions2 / total_predictions2\n",
        "\n",
        "        training_loss.append(epoch_loss)\n",
        "\n",
        "        validation_loss.append(epoch_loss2)\n",
        "        print(f\"Epoch {epochs+1}/{num_epochs}, Loss: {epoch_loss:.4f}, Acc: {epoch_acc:.4f}\")\n",
        "\n",
        "        print(f\"Epoch {epochs+1}/{num_epochs}, Val_Loss: {epoch_loss2:.4f}, Val_Acc: {epoch_acc2:.4f}\")\n",
        "\n",
        "    return training_loss, validation_loss\n",
        "\n",
        "def test(model, testData):\n",
        "    model.eval()\n",
        "    correct = 0\n",
        "    total = 0\n",
        "    listPred = []\n",
        "    listTrue = []\n",
        "    with torch.no_grad():\n",
        "        for data, labels in testData:\n",
        "            outputs = model.forward(data)\n",
        "            _, pred = torch.max(outputs, 1)\n",
        "            \n",
        "            label = labels.to(device)\n",
        "            \n",
        "            correct += (pred == label).sum().item()\n",
        "            for i in range(len(pred)):\n",
        "                listPred.append(pred[i].cpu().item())\n",
        "                #listPred.append(pred.data.cpu().numpy())\n",
        "                listTrue.append(labels[i].cpu().item())\n",
        "            total += label.size(0)\n",
        "\n",
        "    f1 = f1_score(listTrue, listPred, average='weighted')  # 'weighted' takes into account label imbalance; it computes the average of the F1 score of each class weighted by their presence in the true data sample\n",
        "    print('F1 Score:', f1)\n",
        "    return listPred, listTrue"
      ]
    },
    {
      "cell_type": "code",
      "source": [],
      "metadata": {
        "id": "M5lniZZUEXrt"
      },
      "execution_count": null,
      "outputs": []
    },
    {
      "cell_type": "code",
      "execution_count": null,
      "metadata": {
        "colab": {
          "base_uri": "https://localhost:8080/",
          "height": 1000
        },
        "id": "HSPKff_EJB7v",
        "outputId": "5274b7e0-4bb6-4ea9-dd33-be9d67cf2fea"
      },
      "outputs": [
        {
          "output_type": "stream",
          "name": "stdout",
          "text": [
            "Epoch 1/30, Loss: 1.1207, Acc: 0.5939\n",
            "Epoch 1/30, Val_Loss: 1.0755, Val_Acc: 0.6328\n",
            "Epoch 2/30, Loss: 1.1072, Acc: 0.5962\n",
            "Epoch 2/30, Val_Loss: 1.0585, Val_Acc: 0.6328\n",
            "Epoch 3/30, Loss: 1.0916, Acc: 0.5915\n",
            "Epoch 3/30, Val_Loss: 1.0833, Val_Acc: 0.6029\n",
            "Epoch 4/30, Loss: 1.0733, Acc: 0.5911\n",
            "Epoch 4/30, Val_Loss: 1.0518, Val_Acc: 0.6345\n",
            "Epoch 5/30, Loss: 1.0514, Acc: 0.5947\n",
            "Epoch 5/30, Val_Loss: 1.0097, Val_Acc: 0.6328\n",
            "Epoch 6/30, Loss: 1.0318, Acc: 0.5994\n",
            "Epoch 6/30, Val_Loss: 0.9956, Val_Acc: 0.6328\n",
            "Epoch 7/30, Loss: 1.0210, Acc: 0.6001\n",
            "Epoch 7/30, Val_Loss: 1.0125, Val_Acc: 0.6080\n",
            "Epoch 8/30, Loss: 1.0154, Acc: 0.6003\n",
            "Epoch 8/30, Val_Loss: 0.9744, Val_Acc: 0.6208\n",
            "Epoch 9/30, Loss: 0.9981, Acc: 0.6071\n",
            "Epoch 9/30, Val_Loss: 0.9859, Val_Acc: 0.6430\n",
            "Epoch 10/30, Loss: 0.9958, Acc: 0.5992\n",
            "Epoch 10/30, Val_Loss: 0.9896, Val_Acc: 0.6362\n",
            "Epoch 11/30, Loss: 0.9825, Acc: 0.6097\n",
            "Epoch 11/30, Val_Loss: 1.0120, Val_Acc: 0.6379\n",
            "Epoch 12/30, Loss: 0.9850, Acc: 0.6127\n",
            "Epoch 12/30, Val_Loss: 0.9887, Val_Acc: 0.6371\n",
            "Epoch 13/30, Loss: 0.9657, Acc: 0.6108\n",
            "Epoch 13/30, Val_Loss: 0.9863, Val_Acc: 0.6183\n",
            "Epoch 14/30, Loss: 0.9695, Acc: 0.6200\n",
            "Epoch 14/30, Val_Loss: 0.9785, Val_Acc: 0.6123\n",
            "Epoch 15/30, Loss: 0.9560, Acc: 0.6153\n",
            "Epoch 15/30, Val_Loss: 0.9876, Val_Acc: 0.6362\n",
            "Epoch 16/30, Loss: 0.9521, Acc: 0.6251\n",
            "Epoch 16/30, Val_Loss: 0.9685, Val_Acc: 0.6200\n",
            "Epoch 17/30, Loss: 0.9579, Acc: 0.6170\n",
            "Epoch 17/30, Val_Loss: 0.9840, Val_Acc: 0.6268\n",
            "Epoch 18/30, Loss: 0.9481, Acc: 0.6197\n",
            "Epoch 18/30, Val_Loss: 0.9948, Val_Acc: 0.6225\n",
            "Epoch 19/30, Loss: 0.9479, Acc: 0.6178\n",
            "Epoch 19/30, Val_Loss: 0.9998, Val_Acc: 0.5833\n",
            "Epoch 20/30, Loss: 0.9500, Acc: 0.6219\n",
            "Epoch 20/30, Val_Loss: 0.9990, Val_Acc: 0.6029\n",
            "Epoch 21/30, Loss: 0.9414, Acc: 0.6257\n",
            "Epoch 21/30, Val_Loss: 0.9733, Val_Acc: 0.6166\n",
            "Epoch 22/30, Loss: 0.9498, Acc: 0.6279\n",
            "Epoch 22/30, Val_Loss: 0.9866, Val_Acc: 0.6234\n",
            "Epoch 23/30, Loss: 0.9225, Acc: 0.6276\n",
            "Epoch 23/30, Val_Loss: 1.0013, Val_Acc: 0.5918\n",
            "Epoch 24/30, Loss: 0.9319, Acc: 0.6308\n",
            "Epoch 24/30, Val_Loss: 1.0140, Val_Acc: 0.6200\n",
            "Epoch 25/30, Loss: 0.9315, Acc: 0.6274\n",
            "Epoch 25/30, Val_Loss: 0.9933, Val_Acc: 0.6046\n",
            "Epoch 26/30, Loss: 0.9210, Acc: 0.6311\n",
            "Epoch 26/30, Val_Loss: 0.9776, Val_Acc: 0.6234\n",
            "Epoch 27/30, Loss: 0.9339, Acc: 0.6272\n",
            "Epoch 27/30, Val_Loss: 0.9961, Val_Acc: 0.6285\n",
            "Epoch 28/30, Loss: 0.9213, Acc: 0.6304\n",
            "Epoch 28/30, Val_Loss: 0.9921, Val_Acc: 0.6020\n",
            "Epoch 29/30, Loss: 0.9076, Acc: 0.6368\n",
            "Epoch 29/30, Val_Loss: 0.9714, Val_Acc: 0.6097\n",
            "Epoch 30/30, Loss: 0.9162, Acc: 0.6281\n",
            "Epoch 30/30, Val_Loss: 1.0141, Val_Acc: 0.6063\n"
          ]
        },
        {
          "output_type": "display_data",
          "data": {
            "text/plain": [
              "<Figure size 640x480 with 1 Axes>"
            ],
            "image/png": "[encoded data removed]"
          },
          "metadata": {}
        }
      ],
      "source": [
        "LEARNING_RATE = 0.0001\n",
        "to_onehot = nn.Embedding(4,4)\n",
        "to_onehot.weight.data = torch.eye(4)\n",
        "# Load our network\n",
        "model = Net()\n",
        "model = model.to(device)\n",
        "\n",
        "# Define our loss function\n",
        "class_weights = [0.1, 0.8, 0.9, 1.0]  # just an example, replace with your actual weights\n",
        "class_weights = torch.FloatTensor(class_weights).to(device)\n",
        "\n",
        "criterion = nn.CrossEntropyLoss()\n",
        "\n",
        "criterion = criterion.to(device)\n",
        "\n",
        "\n",
        "\n",
        "\n",
        "train_samp = int(0.8*len(training_data))\n",
        "val_samp = len(training_data) - train_samp\n",
        "\n",
        "train, val = torch.utils.data.random_split(training_data, [train_samp, val_samp], generator=torch.Generator())\n",
        "\n",
        "dataloader = DataLoader(train, batch_size=32, shuffle=True)\n",
        "\n",
        "val_loader = DataLoader(val, batch_size=32, shuffle=True)\n",
        "\n",
        "\n",
        "# Define our optimizer\n",
        "\n",
        "optimizer = optim.Adam(model.parameters(), lr = LEARNING_RATE, weight_decay=0.0005)\n",
        "\n",
        "# Train the model\n",
        "msg = \"trainloss leaky relu and adam\"\n",
        "#trained_model = train_model(model, criterion, optimizer, dataloader, val_loader, 30)\n",
        "\n",
        "training_loss, validation_loss = train_model(model, criterion, optimizer, dataloader, val_loader, 30)\n",
        "\n",
        "import matplotlib.pyplot as plt\n",
        "\n",
        "plt.plot(range(30), training_loss, label='Training Loss')\n",
        "plt.plot(range(30), validation_loss, label='Validation Loss')\n",
        "plt.legend()\n",
        "plt.xlabel('Epoch')\n",
        "plt.ylabel('Loss')\n",
        "plt.show()\n"
      ]
    },
    {
      "cell_type": "code",
      "source": [
        "tester = DataLoader(testing_data, batch_size=32, shuffle=False)\n",
        "pred, true = test(model, tester)"
      ],
      "metadata": {
        "colab": {
          "base_uri": "https://localhost:8080/"
        },
        "id": "g-FwUIhURwhH",
        "outputId": "dd927715-4cc0-493f-cd6a-bb81ff8d8410"
      },
      "execution_count": null,
      "outputs": [
        {
          "output_type": "stream",
          "name": "stdout",
          "text": [
            "F1 Score: 0.7128065434495418\n"
          ]
        }
      ]
    },
    {
      "cell_type": "code",
      "source": [
        "len(true)"
      ],
      "metadata": {
        "id": "v15YacQeIqJH"
      },
      "execution_count": null,
      "outputs": []
    },
    {
      "cell_type": "code",
      "source": [
        "from sklearn.metrics import confusion_matrix\n",
        "import numpy\n",
        "import matplotlib.pyplot as plt\n",
        "\n",
        "def plot_confusion_matrix(cm, classes,\n",
        "                          normalize=False,\n",
        "                          title='Confusion matrix',\n",
        "                          cmap=plt.cm.Blues):\n",
        "    \"\"\"\n",
        "    This function prints and plots the confusion matrix.\n",
        "    Normalization can be applied by setting `normalize=True`.\n",
        "    \"\"\"\n",
        "    import itertools\n",
        "    if normalize:\n",
        "        cm = cm.astype('float') / cm.sum(axis=1)[:, np.newaxis]\n",
        "        print(\"Normalized confusion matrix\")\n",
        "    else:\n",
        "        print('Confusion matrix, without normalization')\n",
        "\n",
        "    print(cm)\n",
        "\n",
        "    plt.imshow(cm, interpolation='nearest', cmap=cmap)\n",
        "    plt.title(title)\n",
        "    \n",
        "    tick_marks = numpy.arange(len(classes))\n",
        "    plt.xticks(tick_marks, classes, rotation=45)\n",
        "    plt.yticks(tick_marks, classes)\n",
        "\n",
        "    fmt = '.2f' if normalize else 'd'\n",
        "    thresh = cm.max() / 2.\n",
        "    for i, j in itertools.product(range(cm.shape[0]), range(cm.shape[1])):\n",
        "        plt.text(j, i, format(cm[i, j], fmt),\n",
        "                 horizontalalignment=\"center\",\n",
        "                 color=\"white\" if cm[i, j] > thresh else \"black\")\n",
        "\n",
        "    plt.ylabel('True label')\n",
        "    plt.xlabel('Predicted label')\n",
        "    plt.tight_layout()\n",
        "\n",
        "cnf_matrix = confusion_matrix(true, pred)\n",
        "plot_confusion_matrix(cnf_matrix,labels2)"
      ],
      "metadata": {
        "colab": {
          "base_uri": "https://localhost:8080/",
          "height": 576
        },
        "id": "TEt_Why0G1kj",
        "outputId": "da9000e5-0219-4c64-a4af-fca1ca711dac"
      },
      "execution_count": null,
      "outputs": [
        {
          "output_type": "stream",
          "name": "stdout",
          "text": [
            "Confusion matrix, without normalization\n",
            "[[819  42   2   2]\n",
            " [ 76  43   2   3]\n",
            " [ 66  13  12   2]\n",
            " [ 49  15   6   1]]\n"
          ]
        },
        {
          "output_type": "display_data",
          "data": {
            "text/plain": [
              "<Figure size 640x480 with 1 Axes>"
            ],
            "image/png": "[encoded data removed]"
          },
          "metadata": {}
        }
      ]
    }
  ],
  "metadata": {
    "kernelspec": {
      "display_name": "Python 3 (ipykernel)",
      "language": "python",
      "name": "python3"
    },
    "language_info": {
      "codemirror_mode": {
        "name": "ipython",
        "version": 3
      },
      "file_extension": ".py",
      "mimetype": "text/x-python",
      "name": "python",
      "nbconvert_exporter": "python",
      "pygments_lexer": "ipython3",
      "version": "3.9.13"
    },
    "colab": {
      "provenance": []
    },
    "accelerator": "GPU",
    "gpuClass": "standard"
  },
  "nbformat": 4,
  "nbformat_minor": 0
}