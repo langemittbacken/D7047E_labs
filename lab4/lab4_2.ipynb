{
  "nbformat": 4,
  "nbformat_minor": 0,
  "metadata": {
    "colab": {
      "provenance": [],
      "include_colab_link": true
    },
    "kernelspec": {
      "name": "python3",
      "display_name": "Python 3"
    },
    "language_info": {
      "name": "python"
    },
    "accelerator": "GPU",
    "gpuClass": "standard"
  },
  "cells": [
    {
      "cell_type": "markdown",
      "metadata": {
        "id": "view-in-github",
        "colab_type": "text"
      },
      "source": [
        "<a href=\"https://colab.research.google.com/github/langemittbacken/D7047E_labs/blob/main/lab4_2.ipynb\" target=\"_parent\"><img src=\"https://colab.research.google.com/assets/colab-badge.svg\" alt=\"Open In Colab\"/></a>"
      ]
    },
    {
      "cell_type": "code",
      "source": [
        "!pip install unidecode"
      ],
      "metadata": {
        "colab": {
          "base_uri": "https://localhost:8080/"
        },
        "id": "PYQPyJSsWSlU",
        "outputId": "a32429b1-9a27-4036-d1e9-e8fb1c1992db"
      },
      "execution_count": null,
      "outputs": [
        {
          "output_type": "stream",
          "name": "stdout",
          "text": [
            "Looking in indexes: https://pypi.org/simple, https://us-python.pkg.dev/colab-wheels/public/simple/\n",
            "Requirement already satisfied: unidecode in /usr/local/lib/python3.9/dist-packages (1.3.6)\n"
          ]
        }
      ]
    },
    {
      "cell_type": "code",
      "source": [
        "import torch\n",
        "import torch.cuda\n",
        "device = torch.device('cuda' if torch.cuda.is_available() else 'cpu')\n",
        "print(f\"Using {'cuda' if torch.cuda.is_available() else 'cpu'}\")"
      ],
      "metadata": {
        "colab": {
          "base_uri": "https://localhost:8080/"
        },
        "id": "dYEBo_XRhwGj",
        "outputId": "4aa0bb09-4d38-4b1a-886b-f9ceb12df7c9"
      },
      "execution_count": null,
      "outputs": [
        {
          "output_type": "stream",
          "name": "stdout",
          "text": [
            "Using cuda\n"
          ]
        }
      ]
    },
    {
      "cell_type": "code",
      "execution_count": null,
      "metadata": {
        "id": "Hj08TFoZOwbQ",
        "colab": {
          "base_uri": "https://localhost:8080/"
        },
        "outputId": "39923334-a094-4e61-f51e-cbec0408ad54"
      },
      "outputs": [
        {
          "output_type": "stream",
          "name": "stdout",
          "text": [
            "file_len = 1115394\n"
          ]
        }
      ],
      "source": [
        "import unidecode\n",
        "import string\n",
        "import random\n",
        "import re\n",
        "\n",
        "batch_size = 16\n",
        "chunk_len = 20\n",
        "n_epochs = 2000\n",
        "model = \"gru\"\n",
        "learning_rate = 0.01\n",
        "n_layers = 2\n",
        "hidden_size = 100\n",
        "print_every = 100\n",
        "#shuffle = \n",
        "\n",
        "filename = read_file('/content/shakespear.txt')\n",
        "\n",
        "file = unidecode.unidecode(open('/content/shakespear.txt').read())\n",
        "file_len = len(file)\n",
        "print('file_len =', file_len)\n",
        "\n"
      ]
    },
    {
      "cell_type": "code",
      "source": [
        "import re\n",
        "\n",
        "file2 = unidecode.unidecode(open('/content/shakespear.txt').read())\n",
        "\n",
        "filtered_file = re.sub(r\"[^a-zA-Z\\s]\", \"\", file2)\n",
        "\n",
        "wordsex = filtered_file.split()\n",
        "print(len(wordsex))\n",
        "#print(filtered_file)\n",
        "vocab=[]\n",
        "for word in wordsex:\n",
        "  word = word.lower()\n",
        "  if word not in vocab:\n",
        "      vocab.append(word)\n",
        "\n",
        "def getChunk(i):\n",
        "  chunk = []\n",
        "# Extract 20 consecutive words starting from the random index\n",
        "  chunk = wordsex[i:i+chunk_len + 1]\n",
        "  return chunk\n",
        "chunk = getChunk(20)\n",
        "print(len(chunk))"
      ],
      "metadata": {
        "id": "SJPk0JvGNxTR",
        "colab": {
          "base_uri": "https://localhost:8080/"
        },
        "outputId": "2c5a428b-0250-4d55-fdd5-1be8a0f5e3f3"
      },
      "execution_count": null,
      "outputs": [
        {
          "output_type": "stream",
          "name": "stdout",
          "text": [
            "202619\n",
            "21\n"
          ]
        }
      ]
    },
    {
      "cell_type": "code",
      "source": [
        "import unidecode\n",
        "import string\n",
        "import random\n",
        "import time\n",
        "import math\n",
        "import torch\n",
        "\n",
        "# Reading and un-unicode-encoding data\n",
        "\n",
        "def read_file(filename):\n",
        "    file = unidecode.unidecode(open(filename).read())\n",
        "    return file, len(file)\n",
        "\n",
        "# Turning a string into a tensor\n",
        "\n",
        "def word_tensor(string):\n",
        "    words = string\n",
        "    tensor = torch.zeros(len(words)).long()\n",
        "    for c in range(len(string)):\n",
        "        try:\n",
        "            tensor[c] = vocab.index(words[c].lower())\n",
        "        except:\n",
        "            continue\n",
        "    return tensor\n",
        "\n",
        "# Readable time elapsed\n",
        "\n",
        "def time_since(since):\n",
        "    s = time.time() - since\n",
        "    m = math.floor(s / 60)\n",
        "    s -= m * 60\n",
        "    return '%dm %ds' % (m, s)"
      ],
      "metadata": {
        "id": "iiujLVTSUtF6"
      },
      "execution_count": null,
      "outputs": []
    },
    {
      "cell_type": "code",
      "source": [
        "word_tensor(\"this this\")"
      ],
      "metadata": {
        "colab": {
          "base_uri": "https://localhost:8080/"
        },
        "id": "nJ-zqiz_oqUg",
        "outputId": "dbf01cd9-d262-4db3-c302-e02bdcd15b47"
      },
      "execution_count": null,
      "outputs": [
        {
          "output_type": "stream",
          "name": "stdout",
          "text": [
            "this\n",
            "this\n"
          ]
        },
        {
          "output_type": "execute_result",
          "data": {
            "text/plain": [
              "tensor([96, 96])"
            ]
          },
          "metadata": {},
          "execution_count": 148
        }
      ]
    },
    {
      "cell_type": "code",
      "source": [
        "import torch\n",
        "import torch.nn as nn\n",
        "from torch.autograd import Variable\n",
        "\n",
        "\n",
        "class CharRNN(nn.Module):\n",
        "    def __init__(self, input_size, hidden_size, output_size, model=\"gru\", n_layers=1):\n",
        "        super(CharRNN, self).__init__()\n",
        "        self.model = model.lower()\n",
        "        self.input_size = input_size\n",
        "        self.hidden_size = hidden_size\n",
        "        self.output_size = output_size\n",
        "        self.n_layers = n_layers\n",
        "\n",
        "        self.encoder = nn.Embedding(input_size, hidden_size)\n",
        "        if self.model == \"gru\":\n",
        "            self.rnn = nn.GRU(hidden_size, hidden_size, n_layers)\n",
        "        elif self.model == \"lstm\":\n",
        "            self.rnn = nn.LSTM(hidden_size, hidden_size, n_layers)\n",
        "        self.decoder = nn.Linear(hidden_size, output_size)\n",
        "\n",
        "    def forward(self, input, hidden):\n",
        "        batch_size = input.size(0)\n",
        "        encoded = self.encoder(input)\n",
        "        output, hidden = self.rnn(encoded.view(1, batch_size, -1), hidden)\n",
        "        output = self.decoder(output.view(batch_size, -1))\n",
        "        return output, hidden\n",
        "\n",
        "    def forward2(self, input, hidden):\n",
        "        encoded = self.encoder(input.view(1, -1))\n",
        "        output, hidden = self.rnn(encoded.view(1, 1, -1), hidden)\n",
        "        output = self.decoder(output.view(1, -1))\n",
        "        return output, hidden\n",
        "\n",
        "    def init_hidden(self, batch_size):\n",
        "        if self.model == \"lstm\":\n",
        "            return (Variable(torch.zeros(self.n_layers, batch_size, self.hidden_size)),\n",
        "                    Variable(torch.zeros(self.n_layers, batch_size, self.hidden_size)))\n",
        "        return Variable(torch.zeros(self.n_layers, batch_size, self.hidden_size))"
      ],
      "metadata": {
        "id": "OX9Jc63wVFd-"
      },
      "execution_count": null,
      "outputs": []
    },
    {
      "cell_type": "code",
      "source": [
        "import torch\n",
        "import os\n",
        "import argparse\n",
        "\n",
        "def generate(decoder, prime_str='A', predict_len=100, temperature=0.8, cuda=False):\n",
        "    words = prime_str.split()\n",
        "\n",
        "    hidden = decoder.init_hidden(1)\n",
        "    prime_input = Variable(word_tensor(prime_str).unsqueeze(0))\n",
        "    if cuda:\n",
        "        hidden = hidden.to(device)\n",
        "        prime_input = prime_input.to(device)\n",
        "    predicted = prime_str\n",
        "    \n",
        "    \n",
        "    # Use priming string to \"build up\" hidden state\n",
        "    for p in range(len(words) - 1):\n",
        "        _, hidden = decoder(prime_input[:,p], hidden)\n",
        "        \n",
        "    inp = prime_input[:,-1]\n",
        "    \n",
        "    for p in range(predict_len):\n",
        "        output, hidden = decoder(inp, hidden)\n",
        "        \n",
        "        # Sample from the network as a multinomial distribution\n",
        "        output_dist = output.data.view(-1).div(temperature).exp()\n",
        "        top_i = torch.multinomial(output_dist, 1)[0]\n",
        "        top_index= top_i.item()\n",
        "        # Add predicted character to string and use as next input\n",
        "        predicted_char = vocab[top_index]\n",
        "        predicted += \" \" + predicted_char \n",
        "        inp = torch.tensor([top_index])\n",
        "        if cuda:\n",
        "            inp = inp.to(device)\n",
        "\n",
        "    return predicted\n"
      ],
      "metadata": {
        "id": "8roONHbSVZvP"
      },
      "execution_count": null,
      "outputs": []
    },
    {
      "cell_type": "code",
      "source": [
        "import torch\n",
        "import torch.nn as nn\n",
        "from torch.autograd import Variable\n",
        "import argparse\n",
        "import os\n",
        "\n",
        "from tqdm import tqdm\n",
        "\n",
        "\n",
        "\n",
        "# Parse command line arguments\n",
        "\n",
        "\n",
        "def random_training_set(chunk_len, batch_size):\n",
        "    inp = torch.LongTensor(batch_size, chunk_len)\n",
        "    target = torch.LongTensor(batch_size, chunk_len)\n",
        "    for bi in range(batch_size):\n",
        "        start_index = random.randint(0, len(wordsex) - chunk_len)\n",
        "        #end_index = start_index + chunk_len + 1\n",
        "        chunk = getChunk(start_index)\n",
        "        inp[bi] = word_tensor(chunk[:-1])\n",
        "        target[bi] = word_tensor(chunk[1:])\n",
        "    inp = Variable(inp)\n",
        "    target = Variable(target)\n",
        "    \n",
        "    if(torch.cuda.is_available()):\n",
        "      inp = inp.to(device)\n",
        "      target = target.to(device)\n",
        "      \n",
        "    return inp, target\n",
        "\n",
        "def train(inp, target):\n",
        "    hidden = decoder.init_hidden(batch_size)\n",
        "    if(torch.cuda.is_available()):\n",
        "      hidden = hidden.to(device)\n",
        "      #inp = inp.to(device)\n",
        "    decoder.zero_grad()\n",
        "    loss = 0\n",
        "\n",
        "    for c in range(chunk_len):\n",
        "        output, hidden = decoder(inp[:,c], hidden)\n",
        "        loss += criterion(output.view(batch_size, -1), target[:,c])\n",
        "        \n",
        "    loss.backward()\n",
        "    decoder_optimizer.step()\n",
        "    return loss.data.item() / chunk_len\n",
        "\n",
        "\n",
        "\n",
        "# Initialize models and start training\n",
        "\n",
        "decoder = CharRNN(\n",
        "    len(vocab),\n",
        "    hidden_size,\n",
        "    len(vocab),\n",
        "    model=model,\n",
        "    n_layers=n_layers,\n",
        ")\n",
        "decoder_optimizer = torch.optim.Adam(decoder.parameters(), lr=learning_rate)\n",
        "criterion = nn.CrossEntropyLoss()\n",
        "if(torch.cuda.is_available()):\n",
        "  decoder = decoder.to(device)\n",
        "\n",
        "perplex = []\n",
        "start = time.time()\n",
        "all_losses = []\n",
        "loss_avg = 0\n",
        "\n",
        "\n",
        "print(\"Training for %d epochs...\" % n_epochs)\n",
        "for epoch in tqdm(range(1, n_epochs + 1)):\n",
        "      loss = train(*random_training_set(chunk_len, batch_size))\n",
        "      loss_avg += loss\n",
        "      perplex.append(math.exp(loss))\n",
        "      if epoch % print_every == 0:\n",
        "          print('[%s (%d %d%%) %.4f]' % (time_since(start), epoch, epoch / n_epochs * 100, loss))\n",
        "          #print(generate(decoder, 'Wh', 100, True), '\\n')\n",
        "\n"
      ],
      "metadata": {
        "colab": {
          "base_uri": "https://localhost:8080/"
        },
        "id": "yBILCDkAVhcH",
        "outputId": "b17758c2-6457-4b66-ea05-54252ebbbf8a"
      },
      "execution_count": null,
      "outputs": [
        {
          "output_type": "stream",
          "name": "stdout",
          "text": [
            "Training for 2000 epochs...\n"
          ]
        },
        {
          "output_type": "stream",
          "name": "stderr",
          "text": [
            "  5%|▌         | 105/2000 [00:03<01:10, 27.01it/s]"
          ]
        },
        {
          "output_type": "stream",
          "name": "stdout",
          "text": [
            "[0m 3s (100 5%) 7.0965]\n"
          ]
        },
        {
          "output_type": "stream",
          "name": "stderr",
          "text": [
            " 10%|█         | 203/2000 [00:07<01:37, 18.44it/s]"
          ]
        },
        {
          "output_type": "stream",
          "name": "stdout",
          "text": [
            "[0m 7s (200 10%) 6.9963]\n"
          ]
        },
        {
          "output_type": "stream",
          "name": "stderr",
          "text": [
            " 15%|█▌        | 305/2000 [00:12<01:03, 26.79it/s]"
          ]
        },
        {
          "output_type": "stream",
          "name": "stdout",
          "text": [
            "[0m 12s (300 15%) 6.7483]\n"
          ]
        },
        {
          "output_type": "stream",
          "name": "stderr",
          "text": [
            " 20%|██        | 404/2000 [00:16<00:58, 27.22it/s]"
          ]
        },
        {
          "output_type": "stream",
          "name": "stdout",
          "text": [
            "[0m 16s (400 20%) 6.9616]\n"
          ]
        },
        {
          "output_type": "stream",
          "name": "stderr",
          "text": [
            " 25%|██▌       | 503/2000 [00:19<00:54, 27.35it/s]"
          ]
        },
        {
          "output_type": "stream",
          "name": "stdout",
          "text": [
            "[0m 19s (500 25%) 6.9022]\n"
          ]
        },
        {
          "output_type": "stream",
          "name": "stderr",
          "text": [
            " 30%|███       | 605/2000 [00:24<00:52, 26.50it/s]"
          ]
        },
        {
          "output_type": "stream",
          "name": "stdout",
          "text": [
            "[0m 24s (600 30%) 7.0700]\n"
          ]
        },
        {
          "output_type": "stream",
          "name": "stderr",
          "text": [
            " 35%|███▌      | 704/2000 [00:28<00:45, 28.22it/s]"
          ]
        },
        {
          "output_type": "stream",
          "name": "stdout",
          "text": [
            "[0m 28s (700 35%) 6.8208]\n"
          ]
        },
        {
          "output_type": "stream",
          "name": "stderr",
          "text": [
            " 40%|████      | 803/2000 [00:32<00:44, 26.76it/s]"
          ]
        },
        {
          "output_type": "stream",
          "name": "stdout",
          "text": [
            "[0m 31s (800 40%) 6.8241]\n"
          ]
        },
        {
          "output_type": "stream",
          "name": "stderr",
          "text": [
            " 45%|████▌     | 903/2000 [00:36<01:01, 17.84it/s]"
          ]
        },
        {
          "output_type": "stream",
          "name": "stdout",
          "text": [
            "[0m 36s (900 45%) 6.8041]\n"
          ]
        },
        {
          "output_type": "stream",
          "name": "stderr",
          "text": [
            " 50%|█████     | 1003/2000 [00:40<00:37, 26.79it/s]"
          ]
        },
        {
          "output_type": "stream",
          "name": "stdout",
          "text": [
            "[0m 40s (1000 50%) 6.8495]\n"
          ]
        },
        {
          "output_type": "stream",
          "name": "stderr",
          "text": [
            " 55%|█████▌    | 1105/2000 [00:44<00:32, 27.18it/s]"
          ]
        },
        {
          "output_type": "stream",
          "name": "stdout",
          "text": [
            "[0m 44s (1100 55%) 6.5849]\n"
          ]
        },
        {
          "output_type": "stream",
          "name": "stderr",
          "text": [
            " 60%|██████    | 1202/2000 [00:48<00:42, 18.83it/s]"
          ]
        },
        {
          "output_type": "stream",
          "name": "stdout",
          "text": [
            "[0m 48s (1200 60%) 6.7286]\n"
          ]
        },
        {
          "output_type": "stream",
          "name": "stderr",
          "text": [
            " 65%|██████▌   | 1303/2000 [00:52<00:25, 27.22it/s]"
          ]
        },
        {
          "output_type": "stream",
          "name": "stdout",
          "text": [
            "[0m 52s (1300 65%) 6.8980]\n"
          ]
        },
        {
          "output_type": "stream",
          "name": "stderr",
          "text": [
            " 70%|███████   | 1405/2000 [00:57<00:22, 26.24it/s]"
          ]
        },
        {
          "output_type": "stream",
          "name": "stdout",
          "text": [
            "[0m 57s (1400 70%) 6.7446]\n"
          ]
        },
        {
          "output_type": "stream",
          "name": "stderr",
          "text": [
            " 75%|███████▌  | 1501/2000 [01:01<00:22, 22.36it/s]"
          ]
        },
        {
          "output_type": "stream",
          "name": "stdout",
          "text": [
            "[1m 1s (1500 75%) 6.6502]\n"
          ]
        },
        {
          "output_type": "stream",
          "name": "stderr",
          "text": [
            " 80%|████████  | 1603/2000 [01:06<00:14, 27.26it/s]"
          ]
        },
        {
          "output_type": "stream",
          "name": "stdout",
          "text": [
            "[1m 5s (1600 80%) 6.5877]\n"
          ]
        },
        {
          "output_type": "stream",
          "name": "stderr",
          "text": [
            " 85%|████████▌ | 1705/2000 [01:09<00:11, 26.64it/s]"
          ]
        },
        {
          "output_type": "stream",
          "name": "stdout",
          "text": [
            "[1m 9s (1700 85%) 6.6850]\n"
          ]
        },
        {
          "output_type": "stream",
          "name": "stderr",
          "text": [
            " 90%|█████████ | 1805/2000 [01:13<00:07, 27.61it/s]"
          ]
        },
        {
          "output_type": "stream",
          "name": "stdout",
          "text": [
            "[1m 13s (1800 90%) 6.5401]\n"
          ]
        },
        {
          "output_type": "stream",
          "name": "stderr",
          "text": [
            " 95%|█████████▌| 1905/2000 [01:18<00:03, 24.78it/s]"
          ]
        },
        {
          "output_type": "stream",
          "name": "stdout",
          "text": [
            "[1m 18s (1900 95%) 6.7630]\n"
          ]
        },
        {
          "output_type": "stream",
          "name": "stderr",
          "text": [
            "100%|██████████| 2000/2000 [01:21<00:00, 24.45it/s]"
          ]
        },
        {
          "output_type": "stream",
          "name": "stdout",
          "text": [
            "[1m 21s (2000 100%) 6.2083]\n"
          ]
        },
        {
          "output_type": "stream",
          "name": "stderr",
          "text": [
            "\n"
          ]
        }
      ]
    },
    {
      "cell_type": "markdown",
      "source": [
        "Task2"
      ],
      "metadata": {
        "id": "lGRnh-CFoN94"
      }
    },
    {
      "cell_type": "code",
      "source": [
        "print(generate(decoder, 'which is', 20, cuda = True), '\\n')"
      ],
      "metadata": {
        "colab": {
          "base_uri": "https://localhost:8080/"
        },
        "id": "YBIseHJ3V33C",
        "outputId": "686ee1bc-dcdd-414f-8ab9-d2fa836b181d"
      },
      "execution_count": null,
      "outputs": [
        {
          "output_type": "stream",
          "name": "stdout",
          "text": [
            "which is more she the moon and it the own blast lawful much slain what something i of the air he who \n",
            "\n"
          ]
        }
      ]
    },
    {
      "cell_type": "code",
      "source": [
        "len(vocab)"
      ],
      "metadata": {
        "colab": {
          "base_uri": "https://localhost:8080/"
        },
        "id": "sxQJaw8_f1YE",
        "outputId": "fd271404-8dbd-4b40-9b42-8b2c27408c9f"
      },
      "execution_count": null,
      "outputs": [
        {
          "output_type": "execute_result",
          "data": {
            "text/plain": [
              "12847"
            ]
          },
          "metadata": {},
          "execution_count": 47
        }
      ]
    },
    {
      "cell_type": "markdown",
      "source": [
        "Task 3"
      ],
      "metadata": {
        "id": "zSUO39Jqo3tq"
      }
    },
    {
      "cell_type": "code",
      "source": [
        "print(generate(decoder, 'The', 100, cuda = True), '\\n')\n",
        "print(generate(decoder, 'Which is', 100, cuda = True), '\\n')\n",
        "print(generate(decoder, 'blah blah blah', 100, cuda = True), '\\n')\n",
        "print(generate(decoder, '.', 100, cuda = True), '\\n')"
      ],
      "metadata": {
        "colab": {
          "base_uri": "https://localhost:8080/"
        },
        "id": "U6mcYANpfzM7",
        "outputId": "688f8965-ab15-4236-9cea-eb18b167a534"
      },
      "execution_count": null,
      "outputs": [
        {
          "output_type": "stream",
          "name": "stdout",
          "text": [
            "The words romeo the duke for we and see me that our gentleman richard sir he and you away my lord me as thus lawful we to done sir might and comes the wits ill my king with the lord in by my lord gentle he my men i thou so ill an fearful very holy house henry that and be that his sister so horrible him that in to me to his treasons to bolingbroke i our is love and the instruction not made out and merry to queen an learn her label what this of whose prevention clarence you \n",
            "\n",
            "Which is ignorance and sir with pity my world my officer mariana be the violent good time thou the jest and this cannot didst are friend i they the requited if places thou be the crown little but an good cannot dream this openly satisfy archidamus of his princely but soft ralph here tomorrow that it knife worship of she speak of the sun and ill privately am what with i thee the eyes tis it friar thing the coxcomb it as must my kin to the new whom that i yet side they turn with way should your lord the news \n",
            "\n",
            "blah blah blah thoughts and a fool little cold one against such our horse the remembrance now we the humour scope is good as so and the hour i his cause no shall touchd the hour need the late king that forth sir ill along apparel if thou that and to our that know know the queen for and kings thou gaunt me love me in than servant i not to liest the temper your father him of dost sir ill would henry in and state dost in have lords plantagenet to the word juliet have a antium half now a swearing king \n",
            "\n",
            ". word lord the lord have she your trial and thy thousand hopeful king o our murderer home whose lordship all i too hour married me do the son nurse thou padua i to thanks against therein that makes menenius of there sir he a every fair daughter as sometime bear than our air that no many thy buckingham thou thy tender gain that his foretell deceit king richard death welcome as of lets each all richard beyond you richard to a death that not this threefold his the devil that such pleased do to and this dangerous villain the infidels \n",
            "\n"
          ]
        }
      ]
    },
    {
      "cell_type": "code",
      "source": [
        "\n",
        "\n",
        "import matplotlib.pyplot as plt\n",
        "import matplotlib.ticker as ticker\n",
        "%matplotlib inline\n",
        "\n",
        "\n",
        "plt.figure()\n",
        "plt.plot(perplex)\n",
        "\n"
      ],
      "metadata": {
        "colab": {
          "base_uri": "https://localhost:8080/",
          "height": 447
        },
        "id": "inh3SH9wwMM7",
        "outputId": "796f19c7-6f58-4615-f307-5b740e4b76f3"
      },
      "execution_count": null,
      "outputs": [
        {
          "output_type": "execute_result",
          "data": {
            "text/plain": [
              "[<matplotlib.lines.Line2D at 0x7f4a7ede7940>]"
            ]
          },
          "metadata": {},
          "execution_count": 202
        },
        {
          "output_type": "display_data",
          "data": {
            "text/plain": [
              "<Figure size 640x480 with 1 Axes>"
            ],
            "image/png": "[encoded data removed]"
          },
          "metadata": {}
        }
      ]
    },
    {
      "cell_type": "code",
      "source": [
        "perplex"
      ],
      "metadata": {
        "colab": {
          "base_uri": "https://localhost:8080/"
        },
        "id": "OMK9W-xFxcFz",
        "outputId": "a710e537-f03a-4375-c8fc-0ae2649a1441"
      },
      "execution_count": null,
      "outputs": [
        {
          "output_type": "execute_result",
          "data": {
            "text/plain": [
              "[101.58414310592902, 65.32600910804842]"
            ]
          },
          "metadata": {},
          "execution_count": 63
        }
      ]
    }
  ]
}